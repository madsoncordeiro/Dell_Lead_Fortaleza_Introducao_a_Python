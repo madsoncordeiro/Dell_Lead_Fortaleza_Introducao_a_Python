{
 "cells": [
  {
   "cell_type": "code",
   "execution_count": null,
   "id": "53eb4990",
   "metadata": {},
   "outputs": [],
   "source": [
    "print(\"------------------CALCULE O SEU IMC--------------------\")\n",
    "nome_usuario = input(\"Qual o seu nome? \")\n",
    "idade_usuario = int(input(\"Qual a sua idade? \"))\n",
    "peso_usuario = float(input(\"Qual o seu peso? \"))\n",
    "altura_usuario = float(input(\"Qual a sua altura? \"))\n",
    "imc = float((peso_usuario/(altura_usuario*altura_usuario)))\n",
    "print(f\"Seu nome é {nome_usuario}, você tem {idade_usuario} anos, pesa {peso_usuario} kg e tem {altura_usuario}m de altura. Com base nisso, o seu IMC é de {imc:.2f}.\")"
   ]
  }
 ],
 "metadata": {
  "language_info": {
   "name": "python"
  }
 },
 "nbformat": 4,
 "nbformat_minor": 5
}
