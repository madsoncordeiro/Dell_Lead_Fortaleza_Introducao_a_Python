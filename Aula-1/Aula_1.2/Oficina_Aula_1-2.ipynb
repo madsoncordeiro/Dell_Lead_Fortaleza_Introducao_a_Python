{
 "cells": [
  {
   "cell_type": "code",
   "execution_count": null,
   "id": "603702ac",
   "metadata": {},
   "outputs": [
    {
     "name": "stdout",
     "output_type": "stream",
     "text": [
      "------------------CALCULE O SEU IMC--------------------\n",
      "Seu nome é Madson, você tem 31 anos, pesa 125.0kg e tem 1.69m de altura. Com base nisso, o seu IMC é de 43.77.\n"
     ]
    }
   ],
   "source": [
    "print(\"------------------CALCULE O SEU IMC--------------------\")\n",
    "nome_usuario = input(\"Qual o seu nome? \")\n",
    "idade_usuario = int(input(\"Qual a sua idade? \"))\n",
    "peso_usuario = float(input(\"Qual o seu peso? \"))\n",
    "altura_usuario = float(input(\"Qual a sua altura? \"))\n",
    "imc = float((peso_usuario/(altura_usuario*altura_usuario)))\n",
    "print(f\"Seu nome é {nome_usuario}, você tem {idade_usuario} anos, pesa {peso_usuario} kg e tem {altura_usuario}m de altura. Com base nisso, o seu IMC é de {imc:.2f}.\")"
   ]
  }
 ],
 "metadata": {
  "kernelspec": {
   "display_name": "Python 3",
   "language": "python",
   "name": "python3"
  },
  "language_info": {
   "codemirror_mode": {
    "name": "ipython",
    "version": 3
   },
   "file_extension": ".py",
   "mimetype": "text/x-python",
   "name": "python",
   "nbconvert_exporter": "python",
   "pygments_lexer": "ipython3",
   "version": "3.11.9"
  }
 },
 "nbformat": 4,
 "nbformat_minor": 5
}
